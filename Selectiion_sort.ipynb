{
  "nbformat": 4,
  "nbformat_minor": 0,
  "metadata": {
    "colab": {
      "name": "Selectiion_sort.ipynb",
      "provenance": [],
      "authorship_tag": "ABX9TyOWGR7TyzfIl2dqUzA2UCC4",
      "include_colab_link": true
    },
    "kernelspec": {
      "name": "python3",
      "display_name": "Python 3"
    },
    "language_info": {
      "name": "python"
    }
  },
  "cells": [
    {
      "cell_type": "markdown",
      "metadata": {
        "id": "view-in-github",
        "colab_type": "text"
      },
      "source": [
        "<a href=\"https://colab.research.google.com/github/RamSakamuri/Python_60Days/blob/main/Selectiion_sort.ipynb\" target=\"_parent\"><img src=\"https://colab.research.google.com/assets/colab-badge.svg\" alt=\"Open In Colab\"/></a>"
      ]
    },
    {
      "cell_type": "markdown",
      "source": [
        "selection sort is an in-place comparison sorting algorithm. It has an O(n2) time complexity, which makes it inefficient on large lists, and generally performs worse than the similar insertion sort. Selection sort is noted for its simplicity and has performance advantages over more complicated algorithms in certain situations, particularly where auxiliary memory is limited.\n",
        "\n",
        "*italicized text*"
      ],
      "metadata": {
        "id": "kunNuGQB96l5"
      }
    },
    {
      "cell_type": "code",
      "execution_count": 3,
      "metadata": {
        "colab": {
          "base_uri": "https://localhost:8080/"
        },
        "id": "eoDGMmdJ8vk5",
        "outputId": "484c7b86-796b-4ea2-c85c-5cc31a3f6ca5"
      },
      "outputs": [
        {
          "output_type": "stream",
          "name": "stdout",
          "text": [
            "[2, 3, 4, 30]\n"
          ]
        }
      ],
      "source": [
        "def selection_sort(lst):\n",
        "  n  = len(lst)\n",
        "  for  i in range(n):\n",
        "    min_index=i\n",
        "    for j in range(i+1, n):\n",
        "      if lst[min_index] > lst[j]:\n",
        "        min_index=j\n",
        "    lst[i],lst[min_index]=lst[min_index],lst[i] \n",
        "  return lst\n",
        "  \n",
        "print(selection_sort([30,3,2,4]))"
      ]
    },
    {
      "cell_type": "code",
      "source": [
        ""
      ],
      "metadata": {
        "id": "8FKLDWF296FS"
      },
      "execution_count": null,
      "outputs": []
    }
  ]
}