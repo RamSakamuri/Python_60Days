{
  "nbformat": 4,
  "nbformat_minor": 0,
  "metadata": {
    "colab": {
      "name": "Lambda functions.ipynb",
      "provenance": [],
      "authorship_tag": "ABX9TyOTOWkLnQhH8GlSw0umdKTG",
      "include_colab_link": true
    },
    "kernelspec": {
      "name": "python3",
      "display_name": "Python 3"
    },
    "language_info": {
      "name": "python"
    }
  },
  "cells": [
    {
      "cell_type": "markdown",
      "metadata": {
        "id": "view-in-github",
        "colab_type": "text"
      },
      "source": [
        "<a href=\"https://colab.research.google.com/github/RamSakamuri/Python_60Days/blob/main/Lambda_functions.ipynb\" target=\"_parent\"><img src=\"https://colab.research.google.com/assets/colab-badge.svg\" alt=\"Open In Colab\"/></a>"
      ]
    },
    {
      "cell_type": "code",
      "execution_count": null,
      "metadata": {
        "colab": {
          "base_uri": "https://localhost:8080/"
        },
        "id": "8EO4rj4vdtRv",
        "outputId": "57b3fd18-e404-4f80-ccbe-6fe8374f32d0"
      },
      "outputs": [
        {
          "output_type": "stream",
          "name": "stdout",
          "text": [
            "20\n"
          ]
        }
      ],
      "source": [
        "a = lambda x, y: x*y\n",
        "\n",
        "print(a(4,5))"
      ]
    },
    {
      "cell_type": "code",
      "source": [
        "nums =[1,2,3,4,5,6,7,8,9,10]\n",
        "\n",
        "squares = map(lambda num: num**2, nums)\n",
        "\n",
        "print(squares)\n"
      ],
      "metadata": {
        "colab": {
          "base_uri": "https://localhost:8080/"
        },
        "id": "GEiyQvoBd5Mq",
        "outputId": "d7f7a83e-e45a-4992-d268-a79af9ef4991"
      },
      "execution_count": null,
      "outputs": [
        {
          "output_type": "stream",
          "name": "stdout",
          "text": [
            "<map object at 0x7fa86d6575d0>\n"
          ]
        }
      ]
    },
    {
      "cell_type": "code",
      "source": [
        "def add(a): return a+a\n",
        "\n",
        "sums = map(add, (2,3))\n",
        "\n",
        "print(list(sums))\n",
        "\n"
      ],
      "metadata": {
        "colab": {
          "base_uri": "https://localhost:8080/"
        },
        "id": "QAzyjdKffdYh",
        "outputId": "49b15260-b201-4b6e-9f93-34425e274152"
      },
      "execution_count": null,
      "outputs": [
        {
          "output_type": "stream",
          "name": "stdout",
          "text": [
            "[4, 6]\n"
          ]
        }
      ]
    },
    {
      "cell_type": "code",
      "source": [
        "sums = map(lambda x:x+x, (2,3))\n",
        "\n",
        "print(list(sums))"
      ],
      "metadata": {
        "colab": {
          "base_uri": "https://localhost:8080/"
        },
        "id": "7Ad6Uv_NgNL6",
        "outputId": "2f35af46-989a-4aa7-cde3-e8c5d91af4b3"
      },
      "execution_count": null,
      "outputs": [
        {
          "output_type": "stream",
          "name": "stdout",
          "text": [
            "[4, 6]\n"
          ]
        }
      ]
    },
    {
      "cell_type": "code",
      "source": [
        "sums = map(lambda a, b: a+b, [2,1],[3,4])\n",
        "\n",
        "print(list(sums))"
      ],
      "metadata": {
        "colab": {
          "base_uri": "https://localhost:8080/"
        },
        "id": "qMt_G39xgTTE",
        "outputId": "0ee6da14-afc1-4683-9f25-8dbd8644cd54"
      },
      "execution_count": null,
      "outputs": [
        {
          "output_type": "stream",
          "name": "stdout",
          "text": [
            "[5, 5]\n"
          ]
        }
      ]
    },
    {
      "cell_type": "code",
      "source": [
        "tables = [lambda x=x: x*10 for x in range(1, 11)]\n",
        "\n",
        "for table in tables:\n",
        "\tprint(table)\n"
      ],
      "metadata": {
        "id": "jrP-Jh1Xi3Tq",
        "outputId": "e797ef40-d1ca-4f34-e23b-beefca9446dd",
        "colab": {
          "base_uri": "https://localhost:8080/"
        }
      },
      "execution_count": 1,
      "outputs": [
        {
          "output_type": "stream",
          "name": "stdout",
          "text": [
            "<function <listcomp>.<lambda> at 0x7f688afcc680>\n",
            "<function <listcomp>.<lambda> at 0x7f688afcccb0>\n",
            "<function <listcomp>.<lambda> at 0x7f688afccc20>\n",
            "<function <listcomp>.<lambda> at 0x7f688afccb90>\n",
            "<function <listcomp>.<lambda> at 0x7f688afccb00>\n",
            "<function <listcomp>.<lambda> at 0x7f688afcca70>\n",
            "<function <listcomp>.<lambda> at 0x7f688afcc9e0>\n",
            "<function <listcomp>.<lambda> at 0x7f688afcc950>\n",
            "<function <listcomp>.<lambda> at 0x7f688afccd40>\n",
            "<function <listcomp>.<lambda> at 0x7f688afccdd0>\n"
          ]
        }
      ]
    },
    {
      "cell_type": "code",
      "source": [
        "for table in tables:\n",
        "\tprint(table())"
      ],
      "metadata": {
        "id": "WImJhcRLPS1t",
        "outputId": "4d0b342e-61c3-4eb0-c5f4-2bf8514cbe9f",
        "colab": {
          "base_uri": "https://localhost:8080/"
        }
      },
      "execution_count": 2,
      "outputs": [
        {
          "output_type": "stream",
          "name": "stdout",
          "text": [
            "10\n",
            "20\n",
            "30\n",
            "40\n",
            "50\n",
            "60\n",
            "70\n",
            "80\n",
            "90\n",
            "100\n"
          ]
        }
      ]
    }
  ]
}