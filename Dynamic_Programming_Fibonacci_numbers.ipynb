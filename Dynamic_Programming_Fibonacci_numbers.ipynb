{
  "nbformat": 4,
  "nbformat_minor": 0,
  "metadata": {
    "colab": {
      "name": "Dynamic Programming : Fibonacci numbers",
      "provenance": [],
      "authorship_tag": "ABX9TyO0jI2DnUgjbMB6URVFIO6Y",
      "include_colab_link": true
    },
    "kernelspec": {
      "name": "python3",
      "display_name": "Python 3"
    },
    "language_info": {
      "name": "python"
    }
  },
  "cells": [
    {
      "cell_type": "markdown",
      "metadata": {
        "id": "view-in-github",
        "colab_type": "text"
      },
      "source": [
        "<a href=\"https://colab.research.google.com/github/RamSakamuri/Python_60Days/blob/main/Dynamic_Programming_Fibonacci_numbers.ipynb\" target=\"_parent\"><img src=\"https://colab.research.google.com/assets/colab-badge.svg\" alt=\"Open In Colab\"/></a>"
      ]
    },
    {
      "cell_type": "markdown",
      "source": [
        "# **Recusive Approach**"
      ],
      "metadata": {
        "id": "UNwjD4Ko7SAN"
      }
    },
    {
      "cell_type": "code",
      "execution_count": 7,
      "metadata": {
        "colab": {
          "base_uri": "https://localhost:8080/"
        },
        "id": "fj8ssJMO6v-_",
        "outputId": "a13431a4-43d6-4661-e48b-e037e5d6a1ee"
      },
      "outputs": [
        {
          "output_type": "stream",
          "name": "stdout",
          "text": [
            "5\n",
            "8\n",
            "13\n"
          ]
        }
      ],
      "source": [
        "def fin(n):\n",
        "  if n<2:\n",
        "    return n\n",
        "  return fin(n-1)+ fin(n-2)\n",
        "\n",
        "print(fin(5))\n",
        "print(fin(6))\n",
        "print(fin(7))"
      ]
    },
    {
      "cell_type": "markdown",
      "source": [
        "# **TTop-down with Memoization**\n",
        "\n",
        "In this approach, we try to solve the bigger problem by recursively finding the solution to smaller sub-problems. Whenever we solve a sub-problem, we cache its result so that we don’t end up solving it repeatedly if it’s called multiple times. Instead, we can just return the saved result. This technique of storing the results of already solved subproblems is called Memoization.\n",
        "\n",
        "\n"
      ],
      "metadata": {
        "id": "BiRvuLGL7bf7"
      }
    },
    {
      "cell_type": "code",
      "source": [
        "def fibTopDown(n,mem):\n",
        "  if n <= 2:\n",
        "    return n\n",
        "  if mem[n] >=0:\n",
        "    return mem[n]\n",
        "  mem[n] = fibTopDown(n-1,mem)+ fibTopDown(n-2,mem)\n",
        "  return mem[n]\n",
        "\n",
        "def calculateFib(n):\n",
        "  memoize = [-1 for x in range(n+1)]\n",
        "  return fibTopDown(n,memoize)\n",
        "\n",
        "print(calculateFib(5))\n",
        "print(calculateFib(6))\n",
        "print(calculateFib(7))"
      ],
      "metadata": {
        "colab": {
          "base_uri": "https://localhost:8080/"
        },
        "id": "WyJkNJ9z7Zj7",
        "outputId": "6797f48b-2b1a-4a84-eb5a-4f980062cb01"
      },
      "execution_count": 11,
      "outputs": [
        {
          "output_type": "stream",
          "name": "stdout",
          "text": [
            "8\n",
            "13\n",
            "21\n"
          ]
        }
      ]
    },
    {
      "cell_type": "markdown",
      "source": [
        "# **Bottom-up with Tabulation**\n",
        "\n",
        "Tabulation is the opposite of the top-down approach and avoids recursion. In this approach, we solve the problem “bottom-up” (i.e. by solving all the related sub-problems first). This is typically done by filling up an n-dimensional table. Based on the results in the table, the solution to the top/original problem is then computed.\n",
        "\n",
        "Tabulation is the opposite of Memoization, as in Memoization we solve the problem and maintain a map of already solved sub-problems. In other words, in memoization, we do it top-down in the sense that we solve the top problem first (which typically recurses down to solve the sub-problems).\n",
        "\n",
        "Let’s apply Tabulation to our example of Fibonacci numbers. Since we know that every Fibonacci number is the sum of the two preceding numbers, we can use this fact to populate our table.\n",
        "\n"
      ],
      "metadata": {
        "id": "YZw8_kRK82rT"
      }
    },
    {
      "cell_type": "code",
      "source": [
        "def tabFib(n):\n",
        "  dp=[0,1]\n",
        "  for i in range(2, n+1):\n",
        "    dp.append(dp[i-1]+dp[i-2])\n",
        "  return dp[n]\n",
        "\n",
        "print(tabFib(5))\n",
        "print(tabFib(6))\n",
        "print(tabFib(7))"
      ],
      "metadata": {
        "colab": {
          "base_uri": "https://localhost:8080/"
        },
        "id": "wNtKTRUy8shP",
        "outputId": "5a38019c-a49a-46a3-ca22-006c80294911"
      },
      "execution_count": 14,
      "outputs": [
        {
          "output_type": "stream",
          "name": "stdout",
          "text": [
            "5\n",
            "8\n",
            "13\n"
          ]
        }
      ]
    }
  ]
}