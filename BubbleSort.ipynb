{
  "nbformat": 4,
  "nbformat_minor": 0,
  "metadata": {
    "colab": {
      "name": "BubbleSort.ipynb",
      "provenance": [],
      "authorship_tag": "ABX9TyPO9iKf+4R30csorIb6ggS3",
      "include_colab_link": true
    },
    "kernelspec": {
      "name": "python3",
      "display_name": "Python 3"
    },
    "language_info": {
      "name": "python"
    }
  },
  "cells": [
    {
      "cell_type": "markdown",
      "metadata": {
        "id": "view-in-github",
        "colab_type": "text"
      },
      "source": [
        "<a href=\"https://colab.research.google.com/github/RamSakamuri/Python_60Days/blob/main/BubbleSort.ipynb\" target=\"_parent\"><img src=\"https://colab.research.google.com/assets/colab-badge.svg\" alt=\"Open In Colab\"/></a>"
      ]
    },
    {
      "cell_type": "markdown",
      "source": [
        "Bubble sort, sometimes referred to as sinking sort, is a simple sorting algorithm that repeatedly steps through the list, compares adjacent elements and swaps them if they are in the wrong order. The pass through the list is repeated until the list is sorted. The algorithm, which is a comparison sort, is named for the way smaller or larger elements \"bubble\" to the top of the list.\n",
        "\n"
      ],
      "metadata": {
        "id": "kwZdShRA_6vP"
      }
    },
    {
      "cell_type": "code",
      "execution_count": 2,
      "metadata": {
        "colab": {
          "base_uri": "https://localhost:8080/"
        },
        "id": "T_NdAo0b_IHi",
        "outputId": "62e61e9b-d332-412b-84f5-30f99a8d2a0f"
      },
      "outputs": [
        {
          "output_type": "stream",
          "name": "stdout",
          "text": [
            "[3, 4, 5, 7]\n",
            "[1, 2, 3, 4, 5]\n"
          ]
        }
      ],
      "source": [
        "def bubble_sort(lst):\n",
        "  n = len(lst)\n",
        "  for i in range(n):\n",
        "    for j in range(n-i-1):\n",
        "      if lst[j]> lst[j+1]:\n",
        "        lst[j],lst[j+1]=lst[j+1],lst[j]\n",
        "  return lst\n",
        "\n",
        "\n",
        "print(bubble_sort([5,4,7,3]))\n",
        "\n",
        "print(bubble_sort([3, 2, 1, 5, 4]))"
      ]
    }
  ]
}