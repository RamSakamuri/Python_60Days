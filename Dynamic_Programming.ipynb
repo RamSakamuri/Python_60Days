{
  "nbformat": 4,
  "nbformat_minor": 0,
  "metadata": {
    "colab": {
      "name": "Dynamic Programming.ipynb",
      "provenance": [],
      "authorship_tag": "ABX9TyPhSLRBB4pLuCRp7aHAt/vW",
      "include_colab_link": true
    },
    "kernelspec": {
      "name": "python3",
      "display_name": "Python 3"
    },
    "language_info": {
      "name": "python"
    }
  },
  "cells": [
    {
      "cell_type": "markdown",
      "metadata": {
        "id": "view-in-github",
        "colab_type": "text"
      },
      "source": [
        "<a href=\"https://colab.research.google.com/github/RamSakamuri/Python_60Days/blob/main/Dynamic_Programming.ipynb\" target=\"_parent\"><img src=\"https://colab.research.google.com/assets/colab-badge.svg\" alt=\"Open In Colab\"/></a>"
      ]
    },
    {
      "cell_type": "code",
      "execution_count": null,
      "metadata": {
        "id": "w9VFi_J1XCY1"
      },
      "outputs": [],
      "source": [
        "def stairCase(n, m):\n",
        "    if n==0:\n",
        "        return 1\n",
        "    ways = 0\n",
        "    for i in range(1, m+1):\n",
        "        if i<=n:\n",
        "            ways+= stairCase(n-i, m)\n",
        "    return ways\n",
        "            \n",
        "\n",
        "    print ( stairCase(5, 2))"
      ]
    },
    {
      "cell_type": "code",
      "source": [
        "def knapsackUtil(weights, prices,capacity, index ):\n",
        "    if capacity<=0 or  index >= len(weights) : return 0\n",
        "    \n",
        "    if weights[index] > capacity:\n",
        "        return knapsackUtil(weights, prices,capacity, index+1)\n",
        "    else:\n",
        "        return  max(\n",
        "            prices[index]+knapsackUtil(weights, prices,capacity-weights[index], index+1), \n",
        "            knapsackUtil(weights, prices,capacity, index+1) )\n",
        "        \n",
        "\n",
        "def knapsack(weights, prices, capacity):\n",
        "    index=0\n",
        "    return knapsackUtil(weights, prices,capacity, index )\n",
        "\n",
        "print(knapsack([2,1,1,3], [2,8,1,10], 4))"
      ],
      "metadata": {
        "colab": {
          "base_uri": "https://localhost:8080/"
        },
        "id": "NeggXp1hXLIv",
        "outputId": "82a023b7-f5b6-44b1-8155-dcf0de2b3d29"
      },
      "execution_count": 1,
      "outputs": [
        {
          "output_type": "stream",
          "name": "stdout",
          "text": [
            "18\n"
          ]
        }
      ]
    },
    {
      "cell_type": "code",
      "source": [
        "def knapsackUtil_DP(weights, prices,capacity, index,memo ):\n",
        "    if capacity<=0 or  index >= len(weights) : return 0\n",
        "    \n",
        "    if weights[index] > capacity:\n",
        "        memo[(capacity, index)] = knapsackUtil_DP(weights, prices,capacity, index+1,memo)\n",
        "        return memo[(capacity, index)]\n",
        "    else:\n",
        "        memo[(capacity, index)]= max(\n",
        "            prices[index]+knapsackUtil_DP(weights, prices,capacity-weights[index], index+1,memo), \n",
        "            knapsackUtil_DP(weights, prices,capacity, index+1, memo) )\n",
        "    return memo[(capacity, index)]\n",
        "        \n",
        "\n",
        "def knapsack_DP(weights, prices, capacity):\n",
        "    index=0\n",
        "    memo={}\n",
        "    return knapsackUtil_DP(weights, prices,capacity, index, memo )\n",
        "\n",
        "print(knapsack_DP([2,1,1,3], [2,8,1,10], 4))"
      ],
      "metadata": {
        "colab": {
          "base_uri": "https://localhost:8080/"
        },
        "id": "GCNIDcosXOG7",
        "outputId": "bda3383a-dd75-4481-ba66-d5e2da659b25"
      },
      "execution_count": 2,
      "outputs": [
        {
          "output_type": "stream",
          "name": "stdout",
          "text": [
            "18\n"
          ]
        }
      ]
    },
    {
      "cell_type": "code",
      "source": [
        "def nthStair(n, m, memo):\n",
        "  # base case of when there is no stair\n",
        "  if n == 0:    \n",
        "    return 1\n",
        "  # before recursive step check if result is memoized\n",
        "  if n in memo: \n",
        "    return memo[n]\n",
        "  ways = 0\n",
        "  # iterate over number of steps, we can take\n",
        "  for i in range(1,m+1):    \n",
        "    # if steps remaining is smaller than the jump step, skip \n",
        "    if i <= n:           \n",
        "      #recursive call with n i units lesser where i is the number of steps taken here   \n",
        "      ways += nthStair(n-i, m, memo) \n",
        "  # memoize result before returning\n",
        "  memo[n] = ways   \n",
        "  return ways\n",
        "\n",
        "def staircase(n, m):\n",
        "  memo = {}\n",
        "  # helper function to add memo dictionary to function\n",
        "  return nthStair(n, m, memo) \n",
        "\n",
        "print(staircase(5, 2))"
      ],
      "metadata": {
        "colab": {
          "base_uri": "https://localhost:8080/"
        },
        "id": "l3HIxbsbXRlW",
        "outputId": "337b007b-c9e4-48bd-9e24-10416cf2591d"
      },
      "execution_count": 4,
      "outputs": [
        {
          "output_type": "stream",
          "name": "stdout",
          "text": [
            "8\n"
          ]
        }
      ]
    }
  ]
}