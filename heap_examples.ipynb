{
  "nbformat": 4,
  "nbformat_minor": 0,
  "metadata": {
    "colab": {
      "name": " heap_examples.ipynb",
      "provenance": [],
      "authorship_tag": "ABX9TyNUAeSunihsU9SWbPwdOgBl",
      "include_colab_link": true
    },
    "kernelspec": {
      "name": "python3",
      "display_name": "Python 3"
    },
    "language_info": {
      "name": "python"
    }
  },
  "cells": [
    {
      "cell_type": "markdown",
      "metadata": {
        "id": "view-in-github",
        "colab_type": "text"
      },
      "source": [
        "<a href=\"https://colab.research.google.com/github/RamSakamuri/Python_60Days/blob/main/heap_examples.ipynb\" target=\"_parent\"><img src=\"https://colab.research.google.com/assets/colab-badge.svg\" alt=\"Open In Colab\"/></a>"
      ]
    },
    {
      "cell_type": "code",
      "execution_count": null,
      "metadata": {
        "colab": {
          "base_uri": "https://localhost:8080/"
        },
        "id": "Usd9Sk8gqf60",
        "outputId": "594d5a58-7bfb-4adb-8c09-800ff3b4e1f0"
      },
      "outputs": [
        {
          "output_type": "execute_result",
          "data": {
            "text/plain": [
              "10"
            ]
          },
          "metadata": {},
          "execution_count": 3
        }
      ],
      "source": [
        "from heapq import heappush, heappop\n",
        "l = [3,1,10,7]\n",
        "heap = []\n",
        "for num in l:\n",
        "  heappush(heap, -num) # flip the value\n",
        "\n",
        "root = heappop(heap) # the value of the root is -10\n",
        "max_num = root * -1 # flip again to get the maximum number\n",
        "\n",
        "max_num"
      ]
    },
    {
      "cell_type": "code",
      "source": [
        "\n",
        "heap"
      ],
      "metadata": {
        "colab": {
          "base_uri": "https://localhost:8080/"
        },
        "id": "Ih7cy4W4qwPi",
        "outputId": "3b62d9d0-16b7-41c9-dcce-f890a29ba987"
      },
      "execution_count": null,
      "outputs": [
        {
          "output_type": "execute_result",
          "data": {
            "text/plain": [
              "[-7, -1, -3]"
            ]
          },
          "metadata": {},
          "execution_count": 4
        }
      ]
    },
    {
      "cell_type": "code",
      "source": [
        "students = [('Jenny',20),('Tom',10),('Richard',100),('Mai', 50)]\n",
        "heap = []\n",
        "for name, score in students:\n",
        "  heappush(heap, (score, name)) # we need to move score to the front\n",
        "print(heap[0]) # (10, Tom)\n",
        "heappop(heap)\n",
        "print(heap[1]) # (20, Jenny)"
      ],
      "metadata": {
        "colab": {
          "base_uri": "https://localhost:8080/"
        },
        "id": "OtKPE6nRq-VM",
        "outputId": "341f068a-957e-4e61-b493-bab2141cd53d"
      },
      "execution_count": null,
      "outputs": [
        {
          "output_type": "stream",
          "name": "stdout",
          "text": [
            "(10, 'Tom')\n",
            "(50, 'Mai')\n"
          ]
        }
      ]
    },
    {
      "cell_type": "code",
      "source": [
        "students = [('Jenny',20),('Tom',10),('Richard',100),('Mai', 50)]\n",
        "heap = []\n",
        "for name, score in students:\n",
        "  heappush(heap, (score, name)) # we need to move score to the front\n",
        "print(heap[0]) # (10, Tom)\n",
        "heappop(heap)\n",
        "print(heap[0]) # (20, Jenny)"
      ],
      "metadata": {
        "id": "g386DFfEraRQ"
      },
      "execution_count": null,
      "outputs": []
    },
    {
      "cell_type": "code",
      "source": [
        "from heapq import *\n",
        "\n",
        "\n",
        "def find_k_largest_numbers(nums, k):\n",
        "  minHeap = []\n",
        "  # put first 'K' numbers in the min heap\n",
        "  for i in range(k):\n",
        "    heappush(minHeap, nums[i])\n",
        "\n",
        "  # go through the remaining numbers of the array, if the number from the array is bigger than the\n",
        "  # top(smallest) number of the min-heap, remove the top number from heap and add the number from array\n",
        "  for i in range(k, len(nums)):\n",
        "    if nums[i] > minHeap[0]:\n",
        "      heappop(minHeap)\n",
        "      heappush(minHeap, nums[i])\n",
        "\n",
        "  # the heap has the top 'K' numbers\n",
        "  return minHeap\n",
        "\n",
        "\n",
        "def main():\n",
        "\n",
        "  print(\"Here are the top K numbers: \" +\n",
        "        str(find_k_largest_numbers([3, 1, 5, 12, 2, 11], 3)))\n",
        "\n",
        "  print(\"Here are the top K numbers: \" +\n",
        "        str(find_k_largest_numbers([5, 12, 11, -1, 12], 3)))\n",
        "\n",
        "\n",
        "main()"
      ],
      "metadata": {
        "colab": {
          "base_uri": "https://localhost:8080/"
        },
        "id": "tiEwFz9orjLm",
        "outputId": "ba8eaad7-ee3c-4b3c-f1f2-aff581a31c0a"
      },
      "execution_count": null,
      "outputs": [
        {
          "output_type": "stream",
          "name": "stdout",
          "text": [
            "Here are the top K numbers: [5, 12, 11]\n",
            "Here are the top K numbers: [11, 12, 12]\n"
          ]
        }
      ]
    },
    {
      "cell_type": "code",
      "source": [
        "array=[]\n",
        "max_heapify(array)"
      ],
      "metadata": {
        "id": "IjQ2-V7yzhsf"
      },
      "execution_count": null,
      "outputs": []
    },
    {
      "cell_type": "markdown",
      "source": [
        "Top 'K' Numbers"
      ],
      "metadata": {
        "id": "3v7u7c5SxmFw"
      }
    },
    {
      "cell_type": "code",
      "source": [
        "from heapq import *\n",
        "\n",
        "\n",
        "def find_k_largest_numbers(nums, k):\n",
        "  result = []\n",
        "  # TODO: Write your code here\n",
        "  for i in range(k):\n",
        "    heappush(result, nums[i])\n",
        "  \n",
        "  for i in range(k, len(nums)):\n",
        "    if nums[i] > result[-1]:\n",
        "      heappop(result)\n",
        "      heappush(result, nums[i])\n",
        "  return result\n",
        "\n",
        "\n",
        "def main():\n",
        "\n",
        "  print(\"Here are the top K numbers: \" +\n",
        "        str(find_k_largest_numbers([3, 1, 5, 12, 2, 11], 3)))\n",
        "\n",
        "  print(\"Here are the top K numbers: \" +\n",
        "        str(find_k_largest_numbers([5, 12, 11, -1, 12], 3)))\n",
        "\n",
        "\n",
        "main()\n"
      ],
      "metadata": {
        "colab": {
          "base_uri": "https://localhost:8080/"
        },
        "id": "MuLosk8Vxe_o",
        "outputId": "2e1fa823-9258-4f19-8566-7e12db192431"
      },
      "execution_count": 3,
      "outputs": [
        {
          "output_type": "stream",
          "name": "stdout",
          "text": [
            "Here are the top K numbers: [3, 5, 12]\n",
            "Here are the top K numbers: [11, 12, 12]\n"
          ]
        }
      ]
    },
    {
      "cell_type": "code",
      "source": [
        ""
      ],
      "metadata": {
        "id": "ZzG9FBVky9l_"
      },
      "execution_count": null,
      "outputs": []
    },
    {
      "cell_type": "markdown",
      "source": [
        "'K' Closest Points to the Origin\n"
      ],
      "metadata": {
        "id": "Ko4nJtvDzAvh"
      }
    },
    {
      "cell_type": "code",
      "source": [
        "from __future__ import print_function\n",
        "\n",
        "from heapq import *\n",
        "\n",
        "class Point:\n",
        "\n",
        "  def __init__(self, x, y):\n",
        "    self.x = x\n",
        "    self.y = y\n",
        "  \n",
        "  def distance_from_origin(self):\n",
        "    # ignoring sqrt to calculate the distance\n",
        "    return (self.x * self.x) + (self.y * self.y)\n",
        "\n",
        "  def print_point(self):\n",
        "    print(\"[\" + str(self.x) + \", \" + str(self.y) + \"] \", end='')\n",
        "\n",
        "def find_closest_points(points, k):\n",
        "  result = []\n",
        "  # TODO: Write your code here\n",
        "  for i in range(k):\n",
        "    heappush(result, points[i])\n",
        "\n",
        "  # go through the remaining points of the input array, if a point is closer to the origin than the top point\n",
        "  # of the max-heap, remove the top point from heap and add the point from the input array\n",
        "  for i in range(k, len(points)):\n",
        "    if points[i].distance_from_origin() < points[0].distance_from_origin():\n",
        "      heappop(result)\n",
        "      heappush(result, points[i])\n",
        "\n",
        "  return result\n",
        "\n",
        "\n",
        "def main():\n",
        " a = [Point(1, 3),\n",
        "       Point(3, 4),\n",
        "       Point(2, -1)]\n",
        "       \n",
        "  result = find_closest_points(\n",
        "      [Point(1, 3),\n",
        "       Point(3, 4),\n",
        "       Point(2, -1)], 2)\n",
        "  print(\"Here are the k points closest the origin: \", end='')\n",
        "  for point in result:\n",
        "    point.print_point()\n",
        "\n",
        "\n",
        "main()\n",
        "\n"
      ],
      "metadata": {
        "id": "EBKClfSdzFm-"
      },
      "execution_count": null,
      "outputs": []
    },
    {
      "cell_type": "code",
      "source": [
        "\n",
        "def minimum_cost_to_connect_ropes(ropeLengths):\n",
        "  minHeap = []\n",
        "  # add all ropes to the min heap\n",
        "  for i in ropeLengths:\n",
        "    heappush(minHeap, i)\n",
        "\n",
        "  # go through the values of the heap, in each step take top (lowest) rope lengths from the min heap\n",
        "  # connect them and push the result back to the min heap.\n",
        "  # keep doing this until the heap is left with only one rope\n",
        "  result, temp = 0, 0\n",
        "  while len(minHeap) > 1:\n",
        "    temp = heappop(minHeap) + heappop(minHeap)\n",
        "    result += temp\n",
        "    heappush(minHeap, temp)\n",
        "\n",
        "  return result\n",
        "\n",
        "\n",
        "def main():\n",
        "\n",
        "  print(\"Minimum cost to connect ropes: \" +\n",
        "        str(minimum_cost_to_connect_ropes([1, 3, 11, 5])))\n",
        "  print(\"Minimum cost to connect ropes: \" +\n",
        "        str(minimum_cost_to_connect_ropes([3, 4, 5, 6])))\n",
        "  print(\"Minimum cost to connect ropes: \" +\n",
        "        str(minimum_cost_to_connect_ropes([1, 3, 11, 5, 2])))\n",
        "\n",
        "main()\n"
      ],
      "metadata": {
        "colab": {
          "base_uri": "https://localhost:8080/"
        },
        "id": "TsZyoJETz5RS",
        "outputId": "c10e978d-af33-42f6-82ce-33f2b792cc01"
      },
      "execution_count": 1,
      "outputs": [
        {
          "output_type": "stream",
          "name": "stdout",
          "text": [
            "Minimum cost to connect ropes: 33\n",
            "Minimum cost to connect ropes: 36\n",
            "Minimum cost to connect ropes: 42\n"
          ]
        }
      ]
    },
    {
      "cell_type": "code",
      "source": [
        "from heapq import *\n",
        "\n",
        "\n",
        "def find_k_frequent_numbers(nums, k):\n",
        "\n",
        "  # find the frequency of each number\n",
        "  numFrequencyMap = {}\n",
        "  for num in nums:\n",
        "    numFrequencyMap[num] = numFrequencyMap.get(num, 0) + 1\n",
        "\n",
        "  minHeap = []\n",
        "  print(numFrequencyMap)\n",
        "  # go through all numbers of the numFrequencyMap and push them in the minHeap, which will have\n",
        "  # top k frequent numbers. If the heap size is more than k, we remove the smallest(top) number\n",
        "  for num, frequency in numFrequencyMap.items():\n",
        "    heappush(minHeap, (frequency, num))\n",
        "    if len(minHeap) > k:\n",
        "      heappop(minHeap)\n",
        "\n",
        "  # create a list of top k numbers\n",
        "  topNumbers = []\n",
        "  while minHeap:\n",
        "    topNumbers.append(heappop(minHeap)[1])\n",
        "\n",
        "  return topNumbers\n",
        "\n",
        "\n",
        "def main():\n",
        "\n",
        "  print(\"Here are the K frequent numbers: \" +\n",
        "        str(find_k_frequent_numbers([1, 3, 5, 12, 11, 12, 11], 2)))\n",
        "\n",
        "  print(\"Here are the K frequent numbers: \" +\n",
        "        str(find_k_frequent_numbers([5, 12, 11, 3, 11], 2)))\n",
        "\n",
        "\n",
        "main()"
      ],
      "metadata": {
        "colab": {
          "base_uri": "https://localhost:8080/"
        },
        "id": "XmMydFAb0x7N",
        "outputId": "30c95a1c-dfa4-4154-d910-1e94c27c3f43"
      },
      "execution_count": 4,
      "outputs": [
        {
          "output_type": "stream",
          "name": "stdout",
          "text": [
            "{1: 1, 3: 1, 5: 1, 12: 2, 11: 2}\n",
            "Here are the K frequent numbers: [11, 12]\n",
            "{5: 1, 12: 1, 11: 2, 3: 1}\n",
            "Here are the K frequent numbers: [12, 11]\n"
          ]
        }
      ]
    }
  ]
}