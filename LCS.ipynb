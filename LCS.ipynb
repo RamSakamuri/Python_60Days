{
  "nbformat": 4,
  "nbformat_minor": 0,
  "metadata": {
    "colab": {
      "name": "LCS.ipynb",
      "provenance": [],
      "authorship_tag": "ABX9TyP1hdSReuEvrKisgCitfEM0",
      "include_colab_link": true
    },
    "kernelspec": {
      "name": "python3",
      "display_name": "Python 3"
    },
    "language_info": {
      "name": "python"
    }
  },
  "cells": [
    {
      "cell_type": "markdown",
      "metadata": {
        "id": "view-in-github",
        "colab_type": "text"
      },
      "source": [
        "<a href=\"https://colab.research.google.com/github/RamSakamuri/Python_60Days/blob/main/LCS.ipynb\" target=\"_parent\"><img src=\"https://colab.research.google.com/assets/colab-badge.svg\" alt=\"Open In Colab\"/></a>"
      ]
    },
    {
      "cell_type": "code",
      "execution_count": 4,
      "metadata": {
        "colab": {
          "base_uri": "https://localhost:8080/"
        },
        "id": "MbRdBgQfXePG",
        "outputId": "b686103d-51b2-4e02-915c-1eef03a0b816"
      },
      "outputs": [
        {
          "output_type": "stream",
          "name": "stdout",
          "text": [
            "2\n"
          ]
        }
      ],
      "source": [
        "def util(str1, str2, i, j,count):\n",
        "  if i>= len(str1) or j >=len(str2):\n",
        "    return count\n",
        "    \n",
        "  if str1[i] == str2[j]:\n",
        "    count = util(str1, str2, i+1, j+1, count+1)\n",
        "  \n",
        "  return max(count, util(str1, str2, i+1, j, 0), util(str1, str2, i, j+1, 0))\n",
        "\n",
        "\n",
        "\n",
        "def lcs(str1,str2):\n",
        "  return util(str1, str2, 0,0,0)\n",
        "print(lcs(\"hello\", \"elf\"))"
      ]
    },
    {
      "cell_type": "code",
      "source": [
        "def utilTopDown(str1, str2, i, j,count,memo):\n",
        "  if i>= len(str1) or j >=len(str2):\n",
        "    return count\n",
        "  c=count\n",
        "  if (i,j,count) in memo:       \n",
        "    return memo[(i,j,count)]    \n",
        "  if str1[i] == str2[j]:\n",
        "    c = utilTopDown(str1, str2, i+1, j+1, count+1,memo)\n",
        "    \n",
        "  memo[(i,j,count)]= max(c, \n",
        "                     utilTopDown(str1, str2, i+1, j, 0,memo), \n",
        "                     utilTopDown(str1, str2, i, j+1, 0,memo))\n",
        "  return memo[(i,j,count)]\n",
        "\n",
        "\n",
        "\n",
        "def lcsTop(str1,str2):\n",
        "  memo = {}\n",
        "  return utilTopDown(str1, str2, 0,0,0,memo)\n",
        "print(lcsTop(\"hello\", \"elf\"))"
      ],
      "metadata": {
        "colab": {
          "base_uri": "https://localhost:8080/"
        },
        "id": "5np79vDEeWJ-",
        "outputId": "011513b1-9028-459e-aa62-086df93522ba"
      },
      "execution_count": 11,
      "outputs": [
        {
          "output_type": "stream",
          "name": "stdout",
          "text": [
            "2\n"
          ]
        }
      ]
    },
    {
      "cell_type": "code",
      "source": [
        "def lcsBottomUp(str1, str2):\n",
        "  n = len(str1)\n",
        "  m = len(str2)\n",
        "  dp = [[0 for j in range(m+1)] for i in range(n+1)]  # table for tabulation of size m x n\n",
        "  maxLength=0\n",
        "  for i in range(1, n+1):           # iterating to fill table\n",
        "    for j in range(1, m+1):\n",
        "      if str1[i-1] == str2[j-1]:    # if characters at this position match, \n",
        "        dp[i][j] = dp[i-1][j-1] + 1 # add 1 to the previous diagonal and store it in this diagonal\n",
        "        maxLength = max(maxLength, dp[i][j])  # if this substring is longer, replace it in maxlength\n",
        "      else:\n",
        "        dp[i][j] = 0 # if character don't match, common substring size is 0\n",
        "  return maxLength\n",
        "\n",
        "\n",
        "print(lcsBottomUp(\"hello\", \"elf\"))"
      ],
      "metadata": {
        "colab": {
          "base_uri": "https://localhost:8080/"
        },
        "id": "D4A0KibbiZni",
        "outputId": "2be15438-3e7e-4520-f32d-777a5cfcf605"
      },
      "execution_count": 13,
      "outputs": [
        {
          "output_type": "stream",
          "name": "stdout",
          "text": [
            "2\n"
          ]
        }
      ]
    }
  ]
}